{
 "cells": [
  {
   "cell_type": "markdown",
   "metadata": {},
   "source": [
    "# 주택 가격 예측 프로젝트\n",
    " "
   ]
  },
  {
   "cell_type": "markdown",
   "metadata": {},
   "source": [
    "- **기간:** 2024-09-05 ~ 2024-09-11 (총 5일)\n",
    "- **정의:**\n",
    "  - 이번 프로젝트는 kaggle의 House Price 데이터를 이용하여 주택 가격 예측을 목표로 한다. \n",
    "- **목적:**\n",
    "  - 주택 가격에 영향을 주는 특성들 분석 및 주택 가격 예측\n",
    "\n"
   ]
  },
  {
   "cell_type": "markdown",
   "metadata": {},
   "source": [
    "## [과업 목록]"
   ]
  },
  {
   "cell_type": "markdown",
   "metadata": {},
   "source": [
    "**[ 1일차 ~ 2일차]**\n",
    "\n",
    "- **프로젝트 주제 선정**\n",
    "  -  공공데이터 및 통계청 등 프로젝트를 위한 데이터 탐색 \n",
    "  -  프로젝트를 위한 Kaggle Dataset 확정 및 주제 선정 \n",
    "\n",
    "- **데이터 수집을 위한 URL 탐색**\n",
    "  - Kaggle\n",
    "    - 데이터 확인 \n"
   ]
  },
  {
   "cell_type": "markdown",
   "metadata": {},
   "source": [
    "**[ 3일차]**\n",
    "\n",
    "- **데이터 전처리 및 EDA**\n",
    "  - 데이터 결측값 확인 및 전처리\n",
    "  - EDA 작업 \n",
    "\n",
    "- **프로젝트를 위한 모델 선정**\n",
    "  - 이슈 발생: 모델 선정을 위한 성능 비교 과정에서 비교 모델 전부 낮은 성능 점수 확인 ==> 프로젝트 주제 변경 결정 "
   ]
  },
  {
   "cell_type": "markdown",
   "metadata": {},
   "source": [
    "**[ 4일차 ~ 5일차]**\n",
    "\n",
    "- **프로젝트 주제 선정**\n",
    "  -  공공데이터 및 통계청 등 프로젝트를 위한 데이터 탐색 \n",
    "  -  프로젝트를 위한 Kaggle Dataset 확정 및 주제 선정 \n",
    "\n",
    "- **데이터 수집을 위한 URL 탐색**\n",
    "  - Kaggle\n",
    "    - 데이터 확인 \n",
    "  \n",
    "- **수집 데이터 정리**\n",
    "  - 데이터 정리\n",
    "    - 데이터 구성 파악\n",
    "    - 데이터 결측값 확인 \n",
    "\n"
   ]
  },
  {
   "cell_type": "markdown",
   "metadata": {},
   "source": [
    "**[ 6일차 ]**\n",
    "\n",
    "- **회귀 모델 선택을 위한 적합성 실험**\n",
    "  - EDA 작업\n",
    "  - 모델 적합성 실험\n",
    "\n",
    "- **적합 모델 선정 및 실험**\n",
    "  - Baseline 작업\n",
    "  - 모델 학습 및 실험\n",
    "  "
   ]
  }
 ],
 "metadata": {
  "kernelspec": {
   "display_name": "pybasic",
   "language": "python",
   "name": "python3"
  },
  "language_info": {
   "codemirror_mode": {
    "name": "ipython",
    "version": 3
   },
   "file_extension": ".py",
   "mimetype": "text/x-python",
   "name": "python",
   "nbconvert_exporter": "python",
   "pygments_lexer": "ipython3",
   "version": "3.12.4"
  }
 },
 "nbformat": 4,
 "nbformat_minor": 2
}
