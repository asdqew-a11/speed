{
 "cells": [
  {
   "cell_type": "code",
   "execution_count": 2,
   "metadata": {},
   "outputs": [
    {
     "name": "stderr",
     "output_type": "stream",
     "text": [
      "C:\\Users\\m\\4차4차\\speed\\데이터 전처리\\_init_.py:27: SyntaxWarning: invalid escape sequence '\\W'\n",
      "  font_path = \"c:\\Windows\\Fonts\\malgun.ttf\"\n"
     ]
    },
    {
     "name": "stdout",
     "output_type": "stream",
     "text": [
      "pandas: pd 2.2.2\n",
      "numpy : np 2.1.0\n",
      "matplotlib : mpl 3.9.2\n",
      "seaborn : sns 0.13.2\n",
      "sklearn : skl 1.5.1\n"
     ]
    }
   ],
   "source": [
    "%run _init_.py"
   ]
  },
  {
   "cell_type": "code",
   "execution_count": null,
   "metadata": {},
   "outputs": [],
   "source": []
  },
  {
   "cell_type": "code",
   "execution_count": 3,
   "metadata": {},
   "outputs": [
    {
     "ename": "NameError",
     "evalue": "name 'df' is not defined",
     "output_type": "error",
     "traceback": [
      "\u001b[1;31m---------------------------------------------------------------------------\u001b[0m",
      "\u001b[1;31mNameError\u001b[0m                                 Traceback (most recent call last)",
      "Cell \u001b[1;32mIn[3], line 6\u001b[0m\n\u001b[0;32m      3\u001b[0m \u001b[38;5;28;01mimport\u001b[39;00m \u001b[38;5;21;01mmatplotlib\u001b[39;00m\u001b[38;5;21;01m.\u001b[39;00m\u001b[38;5;21;01mpyplot\u001b[39;00m \u001b[38;5;28;01mas\u001b[39;00m \u001b[38;5;21;01mplt\u001b[39;00m\n\u001b[0;32m      5\u001b[0m \u001b[38;5;66;03m# 로그 변환 적용 (0이 포함된 경우를 고려하여 1을 더함)\u001b[39;00m\n\u001b[1;32m----> 6\u001b[0m df[\u001b[38;5;124m'\u001b[39m\u001b[38;5;124mSalePrice_log\u001b[39m\u001b[38;5;124m'\u001b[39m] \u001b[38;5;241m=\u001b[39m np\u001b[38;5;241m.\u001b[39mlog1p(\u001b[43mdf\u001b[49m[\u001b[38;5;124m'\u001b[39m\u001b[38;5;124mSalePrice\u001b[39m\u001b[38;5;124m'\u001b[39m])\n\u001b[0;32m      8\u001b[0m \u001b[38;5;66;03m# 로그 변환된 데이터의 분포 시각화\u001b[39;00m\n\u001b[0;32m      9\u001b[0m plt\u001b[38;5;241m.\u001b[39mfigure(figsize\u001b[38;5;241m=\u001b[39m(\u001b[38;5;241m9\u001b[39m, \u001b[38;5;241m8\u001b[39m))\n",
      "\u001b[1;31mNameError\u001b[0m: name 'df' is not defined"
     ]
    }
   ],
   "source": [
    "import numpy as np\n",
    "import seaborn as sns\n",
    "import matplotlib.pyplot as plt\n",
    "\n",
    "# 로그 변환 적용 (0이 포함된 경우를 고려하여 1을 더함)\n",
    "df['SalePrice_log'] = np.log1p(df['SalePrice'])\n",
    "\n",
    "# 로그 변환된 데이터의 분포 시각화\n",
    "plt.figure(figsize=(9, 8))\n",
    "sns.histplot(df['SalePrice_log'], color='g', bins=100, kde=True, stat='density', alpha=0.6)\n",
    "plt.xlabel('Log(SalePrice)')\n",
    "plt.title('Distribution of Log-Transformed SalePrice')\n",
    "plt.show()\n"
   ]
  },
  {
   "cell_type": "code",
   "execution_count": 4,
   "metadata": {},
   "outputs": [],
   "source": [
    "# 데이터프레임 로드 (여기서는 데이터프레임이 dfs01로 가정)\n",
    "df=  pd.read_csv('mlst2.csv')"
   ]
  },
  {
   "cell_type": "code",
   "execution_count": 6,
   "metadata": {},
   "outputs": [],
   "source": [
    "# 필요한 열 리스트 정의\n",
    "columns_to_extract = [\n",
    "'GrLivArea','OverallQual','TotRmsAbvGrd','GarageCars','KitchenQual','GarageArea','1stFlrSF','TotalBsmtSF','BsmtQual','FullBath','SalePrice'\n",
    "]\n",
    "\n",
    "# dfs01에서 필요한 열만 추출하여 dfs02 생성\n",
    "df = df[columns_to_extract]\n"
   ]
  },
  {
   "cell_type": "code",
   "execution_count": 7,
   "metadata": {},
   "outputs": [],
   "source": [
    "import numpy as np\n",
    "import pandas as pd\n",
    "\n",
    "# 로그 변환 적용 (0이 포함된 경우를 고려하여 1을 더함)\n",
    "df['SalePrice_log'] = np.log1p(df['SalePrice'])\n",
    "\n",
    "# SalePrice 열 제거\n",
    "df = df.drop('SalePrice', axis=1)\n",
    "\n"
   ]
  },
  {
   "cell_type": "code",
   "execution_count": 8,
   "metadata": {},
   "outputs": [],
   "source": [
    "import pandas as pd\n",
    "\n",
    "# 'SalePrice_log' 열의 이름을 'SalePrice'로 변경\n",
    "df = df.rename(columns={'SalePrice_log': 'SalePrice'})\n",
    "\n"
   ]
  },
  {
   "cell_type": "code",
   "execution_count": 10,
   "metadata": {},
   "outputs": [
    {
     "name": "stdout",
     "output_type": "stream",
     "text": [
      "원본 데이터프레임의 행 수: 1459\n",
      "결측값 처리 후 데이터프레임의 행 수: 1459\n"
     ]
    }
   ],
   "source": [
    "import pandas as pd\n",
    "\n",
    "# 결측값이 있는 열에 대해 처리\n",
    "df['BsmtQual'] = df['BsmtQual'].fillna('0')  # BsmtQual의 결측값을 '0'으로 채움\n",
    "\n",
    "\n",
    "# 나머지 열에 대해 결측값이 있는 행 삭제\n",
    "# 결측값을 처리한 후에 'TotalBsmtSF', 'KitchenQual', 'GarageCars', 'GarageArea' 열에서 결측값이 있는 행 삭제\n",
    "ml = df.dropna(subset=['TotalBsmtSF', 'KitchenQual', 'GarageArea'])\n",
    "\n",
    "# 결과 확인\n",
    "print(f\"원본 데이터프레임의 행 수: {df.shape[0]}\")\n",
    "print(f\"결측값 처리 후 데이터프레임의 행 수: {ml.shape[0]}\")\n"
   ]
  },
  {
   "cell_type": "code",
   "execution_count": null,
   "metadata": {},
   "outputs": [],
   "source": [
    "ml.head()"
   ]
  },
  {
   "cell_type": "code",
   "execution_count": null,
   "metadata": {},
   "outputs": [],
   "source": [
    "import pandas as pd\n",
    "\n",
    "# 'ml' 데이터프레임을 'top10.csv'로 저장\n",
    "ml.to_csv('top10.csv', index=False)\n",
    "\n",
    "# 저장 확인 메시지\n",
    "print(\"데이터프레임이 'top10.csv'로 저장되었습니다.\")\n"
   ]
  },
  {
   "cell_type": "code",
   "execution_count": 11,
   "metadata": {},
   "outputs": [
    {
     "name": "stdout",
     "output_type": "stream",
     "text": [
      "<class 'pandas.core.frame.DataFrame'>\n",
      "RangeIndex: 1459 entries, 0 to 1458\n",
      "Data columns (total 11 columns):\n",
      " #   Column        Non-Null Count  Dtype  \n",
      "---  ------        --------------  -----  \n",
      " 0   GrLivArea     1459 non-null   int64  \n",
      " 1   OverallQual   1459 non-null   int64  \n",
      " 2   TotRmsAbvGrd  1459 non-null   int64  \n",
      " 3   GarageCars    1459 non-null   int64  \n",
      " 4   KitchenQual   1459 non-null   int64  \n",
      " 5   GarageArea    1459 non-null   int64  \n",
      " 6   1stFlrSF      1459 non-null   int64  \n",
      " 7   TotalBsmtSF   1459 non-null   int64  \n",
      " 8   BsmtQual      1459 non-null   object \n",
      " 9   FullBath      1459 non-null   int64  \n",
      " 10  SalePrice     1459 non-null   float64\n",
      "dtypes: float64(1), int64(9), object(1)\n",
      "memory usage: 125.5+ KB\n"
     ]
    }
   ],
   "source": [
    "ml.info()"
   ]
  },
  {
   "cell_type": "code",
   "execution_count": null,
   "metadata": {},
   "outputs": [],
   "source": []
  }
 ],
 "metadata": {
  "kernelspec": {
   "display_name": "speed",
   "language": "python",
   "name": "python3"
  },
  "language_info": {
   "codemirror_mode": {
    "name": "ipython",
    "version": 3
   },
   "file_extension": ".py",
   "mimetype": "text/x-python",
   "name": "python",
   "nbconvert_exporter": "python",
   "pygments_lexer": "ipython3",
   "version": "3.12.5"
  }
 },
 "nbformat": 4,
 "nbformat_minor": 2
}
