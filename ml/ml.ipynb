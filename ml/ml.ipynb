{
 "cells": [
  {
   "cell_type": "code",
   "execution_count": 2,
   "metadata": {},
   "outputs": [
    {
     "name": "stderr",
     "output_type": "stream",
     "text": [
      "C:\\Users\\m\\4차4차\\speed\\ml\\_init_.py:26: SyntaxWarning: invalid escape sequence '\\W'\n",
      "  font_path = \"c:\\Windows\\Fonts\\malgun.ttf\"\n"
     ]
    },
    {
     "name": "stdout",
     "output_type": "stream",
     "text": [
      "pandas: pd 2.2.2\n",
      "numpy : np 2.1.0\n",
      "matplotlib : mpl 3.9.2\n",
      "seaborn : sns 0.13.2\n",
      "sklearn : skl 1.5.1\n"
     ]
    }
   ],
   "source": [
    "%run _init_.py"
   ]
  },
  {
   "cell_type": "code",
   "execution_count": 3,
   "metadata": {},
   "outputs": [],
   "source": [
    "df = pd.read_csv('df.csv')"
   ]
  },
  {
   "cell_type": "code",
   "execution_count": 4,
   "metadata": {},
   "outputs": [
    {
     "name": "stdout",
     "output_type": "stream",
     "text": [
      "CSV 파일로 저장 완료!\n"
     ]
    }
   ],
   "source": [
    "import pandas as pd\n",
    "\n",
    "# 필요한 열 리스트\n",
    "selected_columns = [\n",
    "    'OverallQual', 'GrLivArea', 'GarageCars', 'GarageArea', 'TotalBsmtSF', \n",
    "    '1stFlrSF', 'FullBath', 'TotRmsAbvGrd', 'YearBuilt', 'YearRemodAdd', \n",
    "    'MasVnrArea', 'Fireplaces', 'GarageYrBlt', 'HeatingQC', 'GarageType', \n",
    "    'FireplaceQu', 'GarageFinish', 'KitchenQual', 'BsmtQual', 'ExterQual', \n",
    "    'SalePrice'\n",
    "]\n",
    "\n",
    "# 데이터프레임에서 선택된 열만 추출\n",
    "top20 = df[selected_columns]\n",
    "\n",
    "# 새로운 데이터프레임을 CSV 파일로 저장\n",
    "top20.to_csv('top20.csv', index=False)\n",
    "\n",
    "print(\"CSV 파일로 저장 완료!\")\n"
   ]
  },
  {
   "cell_type": "markdown",
   "metadata": {},
   "source": [
    "### 랜덤 포레스트"
   ]
  },
  {
   "cell_type": "code",
   "execution_count": 5,
   "metadata": {},
   "outputs": [
    {
     "name": "stdout",
     "output_type": "stream",
     "text": [
      "RMSE: 28034.559413997587\n"
     ]
    },
    {
     "name": "stderr",
     "output_type": "stream",
     "text": [
      "c:\\Users\\m\\miniconda3\\envs\\ml\\Lib\\site-packages\\sklearn\\metrics\\_regression.py:492: FutureWarning: 'squared' is deprecated in version 1.4 and will be removed in 1.6. To calculate the root mean squared error, use the function'root_mean_squared_error'.\n",
      "  warnings.warn(\n"
     ]
    }
   ],
   "source": [
    "from sklearn.model_selection import train_test_split\n",
    "from sklearn.ensemble import RandomForestRegressor\n",
    "from sklearn.preprocessing import StandardScaler\n",
    "from sklearn.metrics import mean_squared_error\n",
    "\n",
    "# 데이터 준비\n",
    "X = top20.drop(columns=['SalePrice'])\n",
    "y = top20['SalePrice']\n",
    "\n",
    "# 데이터 분리 (80% 훈련, 20% 테스트)\n",
    "X_train, X_test, y_train, y_test = train_test_split(X, y, test_size=0.2, random_state=42)\n",
    "\n",
    "# 스케일러 적용 (StandardScaler)\n",
    "scaler = StandardScaler()\n",
    "\n",
    "# 훈련 데이터 스케일링\n",
    "X_train_scaled = scaler.fit_transform(X_train)\n",
    "\n",
    "# 테스트 데이터 스케일링 (훈련 데이터의 스케일을 기준으로)\n",
    "X_test_scaled = scaler.transform(X_test)\n",
    "\n",
    "# 모델 학습\n",
    "model = RandomForestRegressor(n_estimators=100, random_state=42)\n",
    "model.fit(X_train_scaled, y_train)\n",
    "\n",
    "# 예측\n",
    "y_pred = model.predict(X_test_scaled)\n",
    "\n",
    "# 성능 평가\n",
    "rmse = mean_squared_error(y_test, y_pred, squared=False)\n",
    "print(f\"RMSE: {rmse}\")\n"
   ]
  },
  {
   "cell_type": "code",
   "execution_count": 6,
   "metadata": {},
   "outputs": [
    {
     "name": "stdout",
     "output_type": "stream",
     "text": [
      "Best Parameters: {'learning_rate': 0.1, 'max_depth': 3, 'n_estimators': 150}\n",
      "Cross-Validated MSE: 877654164.8898258\n",
      "Mean Squared Error: 570017554.9260039\n",
      "Mean Absolute Error: 15672.526584878266\n",
      "R^2 Score: 0.9066536520194749\n"
     ]
    }
   ],
   "source": [
    "import pandas as pd\n",
    "from sklearn.model_selection import train_test_split, GridSearchCV\n",
    "from sklearn.ensemble import GradientBoostingRegressor\n",
    "from sklearn.preprocessing import StandardScaler\n",
    "from sklearn.metrics import mean_squared_error, r2_score, mean_absolute_error\n",
    "\n",
    "# 데이터 프레임 로드 (실제 데이터 파일을 불러올 수 있음)\n",
    "# df = pd.read_csv('your_data.csv')\n",
    "\n",
    "# 피처와 타겟 변수 설정\n",
    "X = df.drop('SalePrice', axis=1)\n",
    "y = df['SalePrice']\n",
    "\n",
    "# 데이터 스케일링\n",
    "scaler = StandardScaler()\n",
    "X_scaled = scaler.fit_transform(X)\n",
    "\n",
    "# 데이터 분할\n",
    "X_train, X_test, y_train, y_test = train_test_split(X_scaled, y, test_size=0.2, random_state=42)\n",
    "\n",
    "# 그레디언트 부스팅 모델 생성\n",
    "model = GradientBoostingRegressor(random_state=42)\n",
    "\n",
    "# 하이퍼파라미터 후보 설정\n",
    "param_grid = {\n",
    "    'n_estimators': [50, 100, 150],\n",
    "    'learning_rate': [0.01, 0.1, 0.2],\n",
    "    'max_depth': [3, 4, 5]\n",
    "}\n",
    "\n",
    "# GridSearchCV를 사용하여 하이퍼파라미터 튜닝\n",
    "grid_search = GridSearchCV(estimator=model, param_grid=param_grid, cv=5, n_jobs=-1, scoring='neg_mean_squared_error')\n",
    "grid_search.fit(X_train, y_train)\n",
    "\n",
    "# 최적의 하이퍼파라미터와 모델 가져오기\n",
    "best_params = grid_search.best_params_\n",
    "best_model = grid_search.best_estimator_\n",
    "\n",
    "print(f\"Best Parameters: {best_params}\")\n",
    "\n",
    "# 튜닝된 모델로 훈련\n",
    "best_model.fit(X_train, y_train)\n",
    "\n",
    "# 예측\n",
    "y_pred = best_model.predict(X_test)\n",
    "\n",
    "# 모델 평가\n",
    "mse = mean_squared_error(y_test, y_pred)\n",
    "mae = mean_absolute_error(y_test, y_pred)\n",
    "r2 = r2_score(y_test, y_pred)\n",
    "from sklearn.model_selection import cross_val_score\n",
    "\n",
    "# 교차 검증을 사용하여 모델 평가\n",
    "cv_scores = cross_val_score(best_model, X_scaled, y, cv=2, scoring='neg_mean_squared_error')\n",
    "print(f\"Cross-Validated MSE: {-cv_scores.mean()}\")\n",
    "\n",
    "print(f\"Mean Squared Error: {mse}\")\n",
    "print(f\"Mean Absolute Error: {mae}\")\n",
    "print(f\"R^2 Score: {r2}\")\n"
   ]
  },
  {
   "cell_type": "code",
   "execution_count": 7,
   "metadata": {},
   "outputs": [
    {
     "name": "stdout",
     "output_type": "stream",
     "text": [
      "Voting Regressor - Mean Squared Error: 582372868.4968954\n",
      "Voting Regressor - Mean Absolute Error: 15650.977845201774\n",
      "Voting Regressor - R^2 Score: 0.9046303399477148\n",
      "Stacking Regressor - Mean Squared Error: 572981867.1831857\n",
      "Stacking Regressor - Mean Absolute Error: 15861.227355198396\n",
      "Stacking Regressor - R^2 Score: 0.9061682148235666\n"
     ]
    }
   ],
   "source": [
    "import pandas as pd\n",
    "from sklearn.model_selection import train_test_split, GridSearchCV\n",
    "from sklearn.ensemble import GradientBoostingRegressor, RandomForestRegressor, VotingRegressor, StackingRegressor\n",
    "from sklearn.preprocessing import StandardScaler\n",
    "from sklearn.metrics import mean_squared_error, r2_score, mean_absolute_error\n",
    "from sklearn.linear_model import LinearRegression\n",
    "\n",
    "# 데이터 프레임 로드 (실제 데이터 파일을 불러올 수 있음)\n",
    "# df = pd.read_csv('your_data.csv')\n",
    "\n",
    "# 피처와 타겟 변수 설정\n",
    "X = df.drop('SalePrice', axis=1)\n",
    "y = df['SalePrice']\n",
    "\n",
    "# 데이터 스케일링\n",
    "scaler = StandardScaler()\n",
    "X_scaled = scaler.fit_transform(X)\n",
    "\n",
    "# 데이터 분할\n",
    "X_train, X_test, y_train, y_test = train_test_split(X_scaled, y, test_size=0.2, random_state=42)\n",
    "\n",
    "# 개별 모델 생성\n",
    "gbm = GradientBoostingRegressor(n_estimators=100, learning_rate=0.1, max_depth=3, random_state=42)\n",
    "rf = RandomForestRegressor(n_estimators=100, random_state=42)\n",
    "\n",
    "# 보팅 회귀 모델 생성\n",
    "voting_regressor = VotingRegressor(estimators=[('gbm', gbm), ('rf', rf)])\n",
    "\n",
    "# 스태킹 회귀 모델 생성\n",
    "stacking_regressor = StackingRegressor(\n",
    "    estimators=[('gbm', gbm), ('rf', rf)],\n",
    "    final_estimator=LinearRegression()\n",
    ")\n",
    "\n",
    "# 모델 훈련\n",
    "voting_regressor.fit(X_train, y_train)\n",
    "stacking_regressor.fit(X_train, y_train)\n",
    "\n",
    "# 예측\n",
    "voting_pred = voting_regressor.predict(X_test)\n",
    "stacking_pred = stacking_regressor.predict(X_test)\n",
    "\n",
    "# 모델 평가\n",
    "voting_mse = mean_squared_error(y_test, voting_pred)\n",
    "stacking_mse = mean_squared_error(y_test, stacking_pred)\n",
    "voting_mae = mean_absolute_error(y_test, voting_pred)\n",
    "stacking_mae = mean_absolute_error(y_test, stacking_pred)\n",
    "voting_r2 = r2_score(y_test, voting_pred)\n",
    "stacking_r2 = r2_score(y_test, stacking_pred)\n",
    "\n",
    "print(f\"Voting Regressor - Mean Squared Error: {voting_mse}\")\n",
    "print(f\"Voting Regressor - Mean Absolute Error: {voting_mae}\")\n",
    "print(f\"Voting Regressor - R^2 Score: {voting_r2}\")\n",
    "\n",
    "print(f\"Stacking Regressor - Mean Squared Error: {stacking_mse}\")\n",
    "print(f\"Stacking Regressor - Mean Absolute Error: {stacking_mae}\")\n",
    "print(f\"Stacking Regressor - R^2 Score: {stacking_r2}\")\n"
   ]
  },
  {
   "cell_type": "code",
   "execution_count": 9,
   "metadata": {},
   "outputs": [
    {
     "name": "stdout",
     "output_type": "stream",
     "text": [
      "Voting Regressor - Mean Squared Error: 635651158.5053998\n",
      "Voting Regressor - Mean Absolute Error: 16419.259756012758\n",
      "Voting Regressor - R^2 Score: 0.8959054616418409\n",
      "Stacking Regressor - Mean Squared Error: 562969591.0289302\n",
      "Stacking Regressor - Mean Absolute Error: 15780.144362520996\n",
      "Stacking Regressor - R^2 Score: 0.9078078299650574\n"
     ]
    }
   ],
   "source": [
    "import pandas as pd\n",
    "from sklearn.model_selection import train_test_split\n",
    "from sklearn.ensemble import (GradientBoostingRegressor, RandomForestRegressor, \n",
    "                              AdaBoostRegressor, ExtraTreesRegressor, \n",
    "                              VotingRegressor, StackingRegressor)\n",
    "from sklearn.linear_model import LinearRegression\n",
    "from sklearn.preprocessing import StandardScaler\n",
    "from sklearn.metrics import mean_squared_error, r2_score, mean_absolute_error\n",
    "\n",
    "# 데이터 프레임 로드 (실제 데이터 파일을 불러올 수 있음)\n",
    "# df = pd.read_csv('your_data.csv')\n",
    "\n",
    "# 피처와 타겟 변수 설정\n",
    "X = df.drop('SalePrice', axis=1)\n",
    "y = df['SalePrice']\n",
    "\n",
    "# 데이터 스케일링\n",
    "scaler = StandardScaler()\n",
    "X_scaled = scaler.fit_transform(X)\n",
    "\n",
    "# 데이터 분할\n",
    "X_train, X_test, y_train, y_test = train_test_split(X_scaled, y, test_size=0.2, random_state=42)\n",
    "\n",
    "# 개별 모델 생성\n",
    "gbm = GradientBoostingRegressor(n_estimators=100, learning_rate=0.1, max_depth=3, random_state=42)\n",
    "rf = RandomForestRegressor(n_estimators=100, random_state=42)\n",
    "ada = AdaBoostRegressor(n_estimators=100, random_state=42)\n",
    "extra_trees = ExtraTreesRegressor(n_estimators=100, random_state=42)\n",
    "linear = LinearRegression()\n",
    "\n",
    "# 보팅 회귀 모델 생성\n",
    "voting_regressor = VotingRegressor(estimators=[('gbm', gbm), ('rf', rf), ('ada', ada), ('extra', extra_trees), ('linear', linear)])\n",
    "\n",
    "# 스태킹 회귀 모델 생성\n",
    "stacking_regressor = StackingRegressor(\n",
    "    estimators=[('gbm', gbm), ('rf', rf), ('ada', ada), ('extra', extra_trees)],\n",
    "    final_estimator=linear\n",
    ")\n",
    "\n",
    "# 모델 훈련\n",
    "voting_regressor.fit(X_train, y_train)\n",
    "stacking_regressor.fit(X_train, y_train)\n",
    "\n",
    "# 예측\n",
    "voting_pred = voting_regressor.predict(X_test)\n",
    "stacking_pred = stacking_regressor.predict(X_test)\n",
    "\n",
    "# 모델 평가\n",
    "voting_mse = mean_squared_error(y_test, voting_pred)\n",
    "stacking_mse = mean_squared_error(y_test, stacking_pred)\n",
    "voting_mae = mean_absolute_error(y_test, voting_pred)\n",
    "stacking_mae = mean_absolute_error(y_test, stacking_pred)\n",
    "voting_r2 = r2_score(y_test, voting_pred)\n",
    "stacking_r2 = r2_score(y_test, stacking_pred)\n",
    "\n",
    "print(f\"Voting Regressor - Mean Squared Error: {voting_mse}\")\n",
    "print(f\"Voting Regressor - Mean Absolute Error: {voting_mae}\")\n",
    "print(f\"Voting Regressor - R^2 Score: {voting_r2}\")\n",
    "\n",
    "print(f\"Stacking Regressor - Mean Squared Error: {stacking_mse}\")\n",
    "print(f\"Stacking Regressor - Mean Absolute Error: {stacking_mae}\")\n",
    "print(f\"Stacking Regressor - R^2 Score: {stacking_r2}\")\n"
   ]
  },
  {
   "cell_type": "code",
   "execution_count": 15,
   "metadata": {},
   "outputs": [
    {
     "name": "stdout",
     "output_type": "stream",
     "text": [
      "Default Model - Mean Squared Error: 571375777.6040524\n",
      "Default Model - Mean Absolute Error: 15819.384795998207\n",
      "Default Model - R^2 Score: 0.9064312288227777\n",
      "Additional Model 1 - Mean Squared Error: 609409214.555808\n",
      "Additional Model 1 - Mean Absolute Error: 15814.155187585548\n",
      "Additional Model 1 - R^2 Score: 0.9002028549597046\n",
      "Additional Model 2 - Mean Squared Error: 639000864.9621615\n",
      "Additional Model 2 - Mean Absolut\n"
     ]
    }
   ],
   "source": [
    "from sklearn.ensemble import GradientBoostingRegressor\n",
    "from sklearn.model_selection import train_test_split\n",
    "from sklearn.preprocessing import StandardScaler\n",
    "from sklearn.metrics import mean_squared_error, r2_score, mean_absolute_error\n",
    "import pandas as pd\n",
    "\n",
    "# 데이터 프레임 로드 (실제 데이터 파일을 불러올 수 있음)\n",
    "# df = pd.read_csv('your_data.csv')\n",
    "\n",
    "# 피처와 타겟 변수 설정\n",
    "X = df.drop('SalePrice', axis=1)\n",
    "y = df['SalePrice']\n",
    "\n",
    "# 데이터 스케일링\n",
    "scaler = StandardScaler()\n",
    "X_scaled = scaler.fit_transform(X)\n",
    "\n",
    "# 데이터 분할\n",
    "X_train, X_test, y_train, y_test = train_test_split(X_scaled, y, test_size=0.2, random_state=42)\n",
    "\n",
    "# GradientBoostingRegressor의 다양한 하이퍼파라미터 설정\n",
    "# 기본 모델\n",
    "gbm_default = GradientBoostingRegressor(n_estimators=100, learning_rate=0.1, max_depth=3, random_state=42)\n",
    "\n",
    "# 추가 하이퍼파라미터 모델 1\n",
    "gbm_additional1 = GradientBoostingRegressor(n_estimators=200, learning_rate=0.05, max_depth=5, random_state=42)\n",
    "\n",
    "# 추가 하이퍼파라미터 모델 2\n",
    "gbm_additional2 = GradientBoostingRegressor(n_estimators=50, learning_rate=0.2, max_depth=2, random_state=42)\n",
    "\n",
    "# 모델 훈련 및 예측\n",
    "def train_and_evaluate(model, X_train, X_test, y_train, y_test):\n",
    "    model.fit(X_train, y_train)\n",
    "    predictions = model.predict(X_test)\n",
    "    mse = mean_squared_error(y_test, predictions)\n",
    "    mae = mean_absolute_error(y_test, predictions)\n",
    "    r2 = r2_score(y_test, predictions)\n",
    "    return mse, mae, r2\n",
    "\n",
    "# 기본 모델 평가\n",
    "mse_default, mae_default, r2_default = train_and_evaluate(gbm_default, X_train, X_test, y_train, y_test)\n",
    "print(f\"Default Model - Mean Squared Error: {mse_default}\")\n",
    "print(f\"Default Model - Mean Absolute Error: {mae_default}\")\n",
    "print(f\"Default Model - R^2 Score: {r2_default}\")\n",
    "\n",
    "# 추가 하이퍼파라미터 모델 1 평가\n",
    "mse_additional1, mae_additional1, r2_additional1 = train_and_evaluate(gbm_additional1, X_train, X_test, y_train, y_test)\n",
    "print(f\"Additional Model 1 - Mean Squared Error: {mse_additional1}\")\n",
    "print(f\"Additional Model 1 - Mean Absolute Error: {mae_additional1}\")\n",
    "print(f\"Additional Model 1 - R^2 Score: {r2_additional1}\")\n",
    "\n",
    "# 추가 하이퍼파라미터 모델 2 평가\n",
    "mse_additional2, mae_additional2, r2_additional2 = train_and_evaluate(gbm_additional2, X_train, X_test, y_train, y_test)\n",
    "print(f\"Additional Model 2 - Mean Squared Error: {mse_additional2}\")\n",
    "print(f\"Additional Model 2 - Mean Absolut\")\n"
   ]
  },
  {
   "cell_type": "markdown",
   "metadata": {},
   "source": [
    "GradientBoostingRegressor (그레디언트 부스팅 회귀):\n",
    "RandomForestRegressor (랜덤 포레스트 회귀):\n",
    "AdaBoostRegressor (아다부스트 회귀):\n",
    "ExtraTreesRegressor (엑스트라 트리 회귀):\n",
    "LinearRegression (선형 회귀):"
   ]
  },
  {
   "cell_type": "code",
   "execution_count": null,
   "metadata": {},
   "outputs": [],
   "source": []
  }
 ],
 "metadata": {
  "kernelspec": {
   "display_name": "ml",
   "language": "python",
   "name": "python3"
  },
  "language_info": {
   "codemirror_mode": {
    "name": "ipython",
    "version": 3
   },
   "file_extension": ".py",
   "mimetype": "text/x-python",
   "name": "python",
   "nbconvert_exporter": "python",
   "pygments_lexer": "ipython3",
   "version": "3.12.5"
  }
 },
 "nbformat": 4,
 "nbformat_minor": 2
}
